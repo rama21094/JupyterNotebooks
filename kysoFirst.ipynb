{
 "cells": [
  {
   "cell_type": "code",
   "execution_count": 1,
   "metadata": {
    "collapsed": true
   },
   "outputs": [
    {
     "name": "stdout",
     "output_type": "stream",
     "text": [
      "Hello Kyso\n"
     ]
    }
   ],
   "source": [
    "print(\"Hello Kyso\")\n"
   ]
  },
  {
   "cell_type": "code",
   "execution_count": 3,
   "metadata": {},
   "outputs": [
    {
     "name": "stdout",
     "output_type": "stream",
     "text": [
      "I'm just testing, how Kyso works!\n"
     ]
    }
   ],
   "source": [
    "print(\"I'm just testing, how Kyso works!\")"
   ]
  },
  {
   "cell_type": "code",
   "execution_count": 5,
   "metadata": {},
   "outputs": [
    {
     "name": "stdout",
     "output_type": "stream",
     "text": [
      "range(1, 60) [0 0 0 0 0 0 0 0 0 0 0 0 0 0 0 0 0 0 0 0 0 0 0 0 0 0 0 0 1 0 0 0 0 0 1 1 1\n 1 1 1 1 0 1 1 1 1 1 1 1 1 1 1 1 1 1 1 1 1 1]\n"
     ]
    },
    {
     "data": {
      "text/plain": [
       "<matplotlib.collections.PathCollection at 0x2ab8fb21e80>"
      ]
     },
     "execution_count": 5,
     "metadata": {},
     "output_type": "execute_result"
    },
    {
     "data": {
      "image/png": "[encoded data removed]",
      "text/plain": [
       "<Figure size 432x288 with 1 Axes>"
      ]
     },
     "metadata": {},
     "output_type": "display_data"
    }
   ],
   "source": [
    "\n",
    "from sklearn.preprocessing import StandardScaler\n",
    "import pandas as pd\n",
    "import matplotlib.pyplot as plt\n",
    "import pickle\n",
    "from sklearn.model_selection import cross_val_predict\n",
    "\n",
    "\n",
    "# load the model from disk\n",
    "filename = 'CombinedModel.sav'\n",
    "estimator = pickle.load(open(filename, 'rb'))\n",
    "\n",
    "dataset = pd.read_excel('IVF data sheet (with integral values).xlsx', sheet_name='TopFeaturesCombined')\n",
    "dataset = dataset.fillna(dataset.mean())\n",
    "dataset1 = dataset\n",
    "# Create a scaler object\n",
    "sc = StandardScaler()\n",
    "\n",
    "# Fit the scaler to the feature data and transform\n",
    "X_std = sc.fit_transform(dataset[dataset.columns[:-1]])\n",
    "X_std = pd.DataFrame(X_std)\n",
    "y = dataset[dataset.columns[-1]]\n",
    "\n",
    "dataset = pd.concat([X_std, y], axis=1)\n",
    "\n",
    "# cross_val_predict returns an array of the same size as `y` where each entry\n",
    "# is a prediction obtained by cross validated:\n",
    "predicted = cross_val_predict(estimator, dataset, y, cv=5)\n",
    "n = range(1, 60)\n",
    "print(n, predicted)\n",
    "fig, ax = plt.subplots()\n",
    "ax.scatter(X_std.loc[:, 0], X_std.loc[:, 5], c=predicted)\n",
    "for i, txt in enumerate(n):\n",
    "    ax.annotate(txt, (X_std.loc[i, 0], X_std.loc[i, 5]))\n",
    "# plt.show()\n",
    "\n",
    "\n",
    "# plt.figure()\n",
    "# plt.scatter(y, predicted)\n",
    "# plt.plot([y.min(), y.max()], [y.min(), y.max()], 'k--', lw=4)\n",
    "# # plt.set_xlabel('Measured')\n",
    "# # plt.set_ylabel('Predicted')\n",
    "# plt.show()\n"
   ]
  },
  {
   "cell_type": "code",
   "execution_count": null,
   "metadata": {},
   "outputs": [],
   "source": []
  }
 ],
 "metadata": {
  "kernelspec": {
   "display_name": "Python 2",
   "language": "python",
   "name": "python2"
  },
  "language_info": {
   "codemirror_mode": {
    "name": "ipython",
    "version": 2
   },
   "file_extension": ".py",
   "mimetype": "text/x-python",
   "name": "python",
   "nbconvert_exporter": "python",
   "pygments_lexer": "ipython2",
   "version": "2.7.6"
  }
 },
 "nbformat": 4,
 "nbformat_minor": 0
}
